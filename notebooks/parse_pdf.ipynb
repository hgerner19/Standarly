{
 "cells": [
  {
   "cell_type": "code",
   "execution_count": 0,
   "metadata": {
    "collapsed": true
   },
   "outputs": [],
   "source": [
    "# notebook that parses a txt file and extracts text from it"
   ]
  },
  {
   "cell_type": "code",
   "execution_count": 1,
   "outputs": [],
   "source": [
    "# imports\n",
    "import PyPDF2\n",
    "import re\n",
    "import pandas as pd\n",
    "import numpy as np\n",
    "import os\n",
    "import sys\n",
    "import time\n",
    "import datetime\n",
    "import glob\n",
    "import csv"
   ],
   "metadata": {
    "collapsed": false,
    "ExecuteTime": {
     "end_time": "2023-05-16T21:03:31.404307Z",
     "start_time": "2023-05-16T21:03:25.654364Z"
    }
   }
  },
  {
   "cell_type": "code",
   "execution_count": 18,
   "outputs": [],
   "source": [
    "import re\n",
    "\n",
    "def process_text(text):\n",
    "    grade_id = subject_id = topic_id = subtopic_id = item_id = 1\n",
    "\n",
    "    grades = []\n",
    "    subjects = []\n",
    "    topics = []\n",
    "    subtopics = []\n",
    "    curriculum_items = []\n",
    "\n",
    "    for line in text.split('\\n'):\n",
    "        if re.match(r'^\\w+grade:$', line):  # Matches 'kindergartens:' or 'firstgrade:'\n",
    "            grade = line[:-1]\n",
    "            grades.append({'GradeID': grade_id, 'GradeName': grade})\n",
    "            grade_id += 1\n",
    "        elif re.match(r'^\\w+:$', line):  # Matches 'Math:' or 'Literacy:'\n",
    "            subject = line[:-1]\n",
    "            subjects.append({'SubjectID': subject_id, 'SubjectName': subject, 'GradeID': grade_id - 1})\n",
    "            subject_id += 1\n",
    "        elif re.match(r'^\\d+\\.', line):  # Matches '1.' or '2.'\n",
    "            topic = line[3:]\n",
    "            topics.append({'TopicID': topic_id, 'TopicName': topic, 'SubjectID': subject_id - 1})\n",
    "            topic_id += 1\n",
    "        elif re.match(r'^[A-Z]\\.', line):  # Matches 'A.' or 'B.'\n",
    "            subtopic = line[3:]\n",
    "            subtopics.append({'SubtopicID': subtopic_id, 'SubtopicName': subtopic, 'TopicID': topic_id - 1})\n",
    "            subtopic_id += 1\n",
    "        elif re.match(r'^[a-z]\\.', line):  # Matches 'a.' or 'b.'\n",
    "            description, curriculum_code = line[3:].split(' (')\n",
    "            curriculum_code = curriculum_code[:-1]  # Remove trailing ')'\n",
    "            curriculum_items.append({\n",
    "                'ItemID': item_id,\n",
    "                'Description': description,\n",
    "                'CurriculumCode': curriculum_code,\n",
    "                'SubtopicID': subtopic_id - 1\n",
    "            })\n",
    "            item_id += 1\n",
    "\n",
    "    return grades, subjects, topics, subtopics, curriculum_items"
   ],
   "metadata": {
    "collapsed": false,
    "ExecuteTime": {
     "end_time": "2023-05-16T22:27:03.590011Z",
     "start_time": "2023-05-16T22:27:03.586438Z"
    }
   }
  },
  {
   "cell_type": "code",
   "execution_count": 19,
   "outputs": [],
   "source": [
    "# function that reads in a txt file\n",
    "def read_txt_file(file_path):\n",
    "    with open(file_path, 'r') as file:\n",
    "        text = file.read()\n",
    "    return text"
   ],
   "metadata": {
    "collapsed": false,
    "ExecuteTime": {
     "end_time": "2023-05-16T22:27:03.980314Z",
     "start_time": "2023-05-16T22:27:03.978263Z"
    }
   }
  },
  {
   "cell_type": "code",
   "execution_count": 20,
   "outputs": [
    {
     "ename": "ValueError",
     "evalue": "not enough values to unpack (expected 2, got 1)",
     "output_type": "error",
     "traceback": [
      "\u001B[0;31m---------------------------------------------------------------------------\u001B[0m",
      "\u001B[0;31mValueError\u001B[0m                                Traceback (most recent call last)",
      "Cell \u001B[0;32mIn[20], line 5\u001B[0m\n\u001B[1;32m      1\u001B[0m \u001B[38;5;66;03m# use the function to extract text from the file and store the text in the 2-processed folder\u001B[39;00m\n\u001B[1;32m      2\u001B[0m \u001B[38;5;66;03m# the txt file is stored in the 1-raw folder.\u001B[39;00m\n\u001B[1;32m      3\u001B[0m \u001B[38;5;66;03m# process the coloStandards.txt file\u001B[39;00m\n\u001B[1;32m      4\u001B[0m text \u001B[38;5;241m=\u001B[39m read_txt_file(\u001B[38;5;124m'\u001B[39m\u001B[38;5;124m../data/1-raw/coloStandards.txt\u001B[39m\u001B[38;5;124m'\u001B[39m)\n\u001B[0;32m----> 5\u001B[0m grades, subjects, topics, subtopics, curriculum_items \u001B[38;5;241m=\u001B[39m \u001B[43mprocess_text\u001B[49m\u001B[43m(\u001B[49m\u001B[43mtext\u001B[49m\u001B[43m)\u001B[49m\n",
      "Cell \u001B[0;32mIn[18], line 30\u001B[0m, in \u001B[0;36mprocess_text\u001B[0;34m(text)\u001B[0m\n\u001B[1;32m     28\u001B[0m     subtopic_id \u001B[38;5;241m+\u001B[39m\u001B[38;5;241m=\u001B[39m \u001B[38;5;241m1\u001B[39m\n\u001B[1;32m     29\u001B[0m \u001B[38;5;28;01melif\u001B[39;00m re\u001B[38;5;241m.\u001B[39mmatch(\u001B[38;5;124mr\u001B[39m\u001B[38;5;124m'\u001B[39m\u001B[38;5;124m^[a-z]\u001B[39m\u001B[38;5;124m\\\u001B[39m\u001B[38;5;124m.\u001B[39m\u001B[38;5;124m'\u001B[39m, line):  \u001B[38;5;66;03m# Matches 'a.' or 'b.'\u001B[39;00m\n\u001B[0;32m---> 30\u001B[0m     description, curriculum_code \u001B[38;5;241m=\u001B[39m line[\u001B[38;5;241m3\u001B[39m:]\u001B[38;5;241m.\u001B[39msplit(\u001B[38;5;124m'\u001B[39m\u001B[38;5;124m (\u001B[39m\u001B[38;5;124m'\u001B[39m)\n\u001B[1;32m     31\u001B[0m     curriculum_code \u001B[38;5;241m=\u001B[39m curriculum_code[:\u001B[38;5;241m-\u001B[39m\u001B[38;5;241m1\u001B[39m]  \u001B[38;5;66;03m# Remove trailing ')'\u001B[39;00m\n\u001B[1;32m     32\u001B[0m     curriculum_items\u001B[38;5;241m.\u001B[39mappend({\n\u001B[1;32m     33\u001B[0m         \u001B[38;5;124m'\u001B[39m\u001B[38;5;124mItemID\u001B[39m\u001B[38;5;124m'\u001B[39m: item_id,\n\u001B[1;32m     34\u001B[0m         \u001B[38;5;124m'\u001B[39m\u001B[38;5;124mDescription\u001B[39m\u001B[38;5;124m'\u001B[39m: description,\n\u001B[1;32m     35\u001B[0m         \u001B[38;5;124m'\u001B[39m\u001B[38;5;124mCurriculumCode\u001B[39m\u001B[38;5;124m'\u001B[39m: curriculum_code,\n\u001B[1;32m     36\u001B[0m         \u001B[38;5;124m'\u001B[39m\u001B[38;5;124mSubtopicID\u001B[39m\u001B[38;5;124m'\u001B[39m: subtopic_id \u001B[38;5;241m-\u001B[39m \u001B[38;5;241m1\u001B[39m\n\u001B[1;32m     37\u001B[0m     })\n",
      "\u001B[0;31mValueError\u001B[0m: not enough values to unpack (expected 2, got 1)"
     ]
    }
   ],
   "source": [
    "# use the function to extract text from the file and store the text in the 2-processed folder\n",
    "# the txt file is stored in the 1-raw folder.\n",
    "# process the coloStandards.txt file\n",
    "text = read_txt_file('../data/1-raw/coloStandards.txt')\n",
    "grades, subjects, topics, subtopics, curriculum_items = process_text(text)"
   ],
   "metadata": {
    "collapsed": false,
    "ExecuteTime": {
     "end_time": "2023-05-16T22:27:04.787729Z",
     "start_time": "2023-05-16T22:27:04.766549Z"
    }
   }
  },
  {
   "cell_type": "code",
   "execution_count": 21,
   "outputs": [],
   "source": [
    "#print (grades)\n",
    "#print (subjects)\n",
    "#print (topics)\n",
    "#print (subtopics)\n",
    "#print (curriculum_items)"
   ],
   "metadata": {
    "collapsed": false,
    "ExecuteTime": {
     "end_time": "2023-05-17T00:04:11.739867Z",
     "start_time": "2023-05-17T00:04:11.737581Z"
    }
   }
  },
  {
   "cell_type": "code",
   "execution_count": null,
   "outputs": [],
   "source": [],
   "metadata": {
    "collapsed": false
   }
  }
 ],
 "metadata": {
  "kernelspec": {
   "display_name": "Python 3",
   "language": "python",
   "name": "python3"
  },
  "language_info": {
   "codemirror_mode": {
    "name": "ipython",
    "version": 2
   },
   "file_extension": ".py",
   "mimetype": "text/x-python",
   "name": "python",
   "nbconvert_exporter": "python",
   "pygments_lexer": "ipython2",
   "version": "2.7.6"
  }
 },
 "nbformat": 4,
 "nbformat_minor": 0
}
